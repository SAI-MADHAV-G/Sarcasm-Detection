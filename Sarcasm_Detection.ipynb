{
  "nbformat": 4,
  "nbformat_minor": 0,
  "metadata": {
    "colab": {
      "name": "Sarcasm Detection.ipynb",
      "provenance": [],
      "collapsed_sections": []
    },
    "kernelspec": {
      "name": "python3",
      "display_name": "Python 3"
    },
    "language_info": {
      "name": "python"
    },
    "accelerator": "GPU"
  },
  "cells": [
    {
      "cell_type": "markdown",
      "metadata": {
        "id": "P9zXn4kpx5Hz"
      },
      "source": [
        "####DOMAIN: Social media analytics\n",
        "\n",
        "• CONTEXT: Past studies in Sarcasm Detection mostly make use of Twitter datasets collected\n",
        "using hashtag based supervision but such datasets are noisy in terms of labels and\n",
        "language. Furthermore, many tweets are replies to other tweets and detecting sarcasm in\n",
        "these requires the availability of contextual tweets.In this hands-on project, the goal is to\n",
        "build a model to detect whether a sentence is sarcastic or not, using Bidirectional LSTMs.\n",
        "\n",
        "• DATA DESCRIPTION:\n",
        "The dataset is collected from two news websites, theonion.com and huffingtonpost.com.\n",
        "This new dataset has the following advantages over the existing Twitter datasets:\n",
        "Since news headlines are written by professionals in a formal manner, there are no spelling mistakes and\n",
        "informal usage. This reduces the sparsity and also increases the chance of finding pre-trained embeddings.\n",
        "Furthermore, since the sole purpose of TheOnion is to publish sarcastic news, we get high-quality labels with\n",
        "much less noise as compared to Twitter datasets.\n",
        "Unlike tweets that reply to other tweets, the news headlines obtained are self-contained. This would help us in\n",
        "teasing apart the real sarcastic elements\n",
        "Content: Each record consists of three attributes:\n",
        "is_sarcastic: 1 if the record is sarcastic otherwise 0\n",
        "headline: the headline of the news article\n",
        "article_link: link to the original news article. Useful in collecting supplementary data\n",
        "Reference: https://github.com/rishabhmisra/News-Headlines-Dataset-For-Sarcasm-Detection\n",
        "\n",
        "• PROJECT OBJECTIVE: Build a sequential NLP classifier which can use input text parameters\n",
        "to determine the customer sentiments."
      ]
    },
    {
      "cell_type": "code",
      "metadata": {
        "colab": {
          "base_uri": "https://localhost:8080/"
        },
        "id": "iX6xaqmjxka6",
        "outputId": "b06f973d-1600-480e-bd27-a0875dd94289"
      },
      "source": [
        "# Import Libraries\n",
        "\n",
        "# used to supress display of warnings\n",
        "import warnings\n",
        "\n",
        "# os is used to provide a way of using operating system dependent functionality\n",
        "# We use it for setting working folder\n",
        "import os\n",
        "\n",
        "# Pandas is used for data manipulation and analysis\n",
        "import pandas as pd \n",
        "\n",
        "# Numpy is used for large, multi-dimensional arrays and matrices, along with mathematical operators on these arrays\n",
        "import numpy as np\n",
        "\n",
        "# Matplotlib is a data visualization library for 2D plots of arrays, built on NumPy arrays \n",
        "# and designed to work with the broader SciPy stack\n",
        "import matplotlib.pyplot as plt\n",
        "%matplotlib inline\n",
        "from matplotlib import pyplot\n",
        "\n",
        "# Seaborn is based on matplotlib, which aids in drawing attractive and informative statistical graphics.\n",
        "import seaborn as sns\n",
        "import tensorflow \n",
        "print(tensorflow.__version__)"
      ],
      "execution_count": 1,
      "outputs": [
        {
          "output_type": "stream",
          "name": "stdout",
          "text": [
            "2.7.0\n"
          ]
        }
      ]
    },
    {
      "cell_type": "code",
      "metadata": {
        "id": "SPwskoPlyofG"
      },
      "source": [
        "# Setting options\n",
        "# suppress display of warnings\n",
        "warnings.filterwarnings('ignore')\n",
        "\n",
        "# display all dataframe columns\n",
        "pd.options.display.max_columns = None\n",
        "\n",
        "# to set the limit to 3 decimals\n",
        "pd.options.display.float_format = '{:.7f}'.format\n",
        "\n",
        "# display all dataframe rows\n",
        "pd.options.display.max_rows = None"
      ],
      "execution_count": 2,
      "outputs": []
    },
    {
      "cell_type": "code",
      "metadata": {
        "colab": {
          "base_uri": "https://localhost:8080/"
        },
        "id": "ouknhVg0yuRw",
        "outputId": "142f0cee-e49c-4b2c-bab1-eb2c9f89e71c"
      },
      "source": [
        "# Mount Drive\n",
        "from google.colab import drive\n",
        "drive.mount('/content/drive')"
      ],
      "execution_count": 3,
      "outputs": [
        {
          "output_type": "stream",
          "name": "stdout",
          "text": [
            "Mounted at /content/drive\n"
          ]
        }
      ]
    },
    {
      "cell_type": "code",
      "metadata": {
        "colab": {
          "base_uri": "https://localhost:8080/",
          "height": 206
        },
        "id": "pVZA2E0IzG0N",
        "outputId": "99a0d352-46b4-41c3-d090-2e18dbf72264"
      },
      "source": [
        "# Read the data\n",
        "df =pd.read_json(\"/content/drive/MyDrive/Sarcasm_Headlines_Dataset.json\", lines = True)\n",
        "df.head()"
      ],
      "execution_count": 4,
      "outputs": [
        {
          "output_type": "execute_result",
          "data": {
            "text/html": [
              "<div>\n",
              "<style scoped>\n",
              "    .dataframe tbody tr th:only-of-type {\n",
              "        vertical-align: middle;\n",
              "    }\n",
              "\n",
              "    .dataframe tbody tr th {\n",
              "        vertical-align: top;\n",
              "    }\n",
              "\n",
              "    .dataframe thead th {\n",
              "        text-align: right;\n",
              "    }\n",
              "</style>\n",
              "<table border=\"1\" class=\"dataframe\">\n",
              "  <thead>\n",
              "    <tr style=\"text-align: right;\">\n",
              "      <th></th>\n",
              "      <th>is_sarcastic</th>\n",
              "      <th>headline</th>\n",
              "      <th>article_link</th>\n",
              "    </tr>\n",
              "  </thead>\n",
              "  <tbody>\n",
              "    <tr>\n",
              "      <th>0</th>\n",
              "      <td>1</td>\n",
              "      <td>thirtysomething scientists unveil doomsday clo...</td>\n",
              "      <td>https://www.theonion.com/thirtysomething-scien...</td>\n",
              "    </tr>\n",
              "    <tr>\n",
              "      <th>1</th>\n",
              "      <td>0</td>\n",
              "      <td>dem rep. totally nails why congress is falling...</td>\n",
              "      <td>https://www.huffingtonpost.com/entry/donna-edw...</td>\n",
              "    </tr>\n",
              "    <tr>\n",
              "      <th>2</th>\n",
              "      <td>0</td>\n",
              "      <td>eat your veggies: 9 deliciously different recipes</td>\n",
              "      <td>https://www.huffingtonpost.com/entry/eat-your-...</td>\n",
              "    </tr>\n",
              "    <tr>\n",
              "      <th>3</th>\n",
              "      <td>1</td>\n",
              "      <td>inclement weather prevents liar from getting t...</td>\n",
              "      <td>https://local.theonion.com/inclement-weather-p...</td>\n",
              "    </tr>\n",
              "    <tr>\n",
              "      <th>4</th>\n",
              "      <td>1</td>\n",
              "      <td>mother comes pretty close to using word 'strea...</td>\n",
              "      <td>https://www.theonion.com/mother-comes-pretty-c...</td>\n",
              "    </tr>\n",
              "  </tbody>\n",
              "</table>\n",
              "</div>"
            ],
            "text/plain": [
              "   is_sarcastic                                           headline  \\\n",
              "0             1  thirtysomething scientists unveil doomsday clo...   \n",
              "1             0  dem rep. totally nails why congress is falling...   \n",
              "2             0  eat your veggies: 9 deliciously different recipes   \n",
              "3             1  inclement weather prevents liar from getting t...   \n",
              "4             1  mother comes pretty close to using word 'strea...   \n",
              "\n",
              "                                        article_link  \n",
              "0  https://www.theonion.com/thirtysomething-scien...  \n",
              "1  https://www.huffingtonpost.com/entry/donna-edw...  \n",
              "2  https://www.huffingtonpost.com/entry/eat-your-...  \n",
              "3  https://local.theonion.com/inclement-weather-p...  \n",
              "4  https://www.theonion.com/mother-comes-pretty-c...  "
            ]
          },
          "metadata": {},
          "execution_count": 4
        }
      ]
    },
    {
      "cell_type": "code",
      "metadata": {
        "colab": {
          "base_uri": "https://localhost:8080/"
        },
        "id": "vuZ7oT_ezoWt",
        "outputId": "8a25f0ec-623a-4286-fba3-8144b11c0f94"
      },
      "source": [
        "df.shape"
      ],
      "execution_count": 5,
      "outputs": [
        {
          "output_type": "execute_result",
          "data": {
            "text/plain": [
              "(28619, 3)"
            ]
          },
          "metadata": {},
          "execution_count": 5
        }
      ]
    },
    {
      "cell_type": "code",
      "metadata": {
        "colab": {
          "base_uri": "https://localhost:8080/"
        },
        "id": "__dA-Ex3z62q",
        "outputId": "47aae720-49d8-4ac3-d980-1bf6fa274829"
      },
      "source": [
        "df.info()"
      ],
      "execution_count": 6,
      "outputs": [
        {
          "output_type": "stream",
          "name": "stdout",
          "text": [
            "<class 'pandas.core.frame.DataFrame'>\n",
            "RangeIndex: 28619 entries, 0 to 28618\n",
            "Data columns (total 3 columns):\n",
            " #   Column        Non-Null Count  Dtype \n",
            "---  ------        --------------  ----- \n",
            " 0   is_sarcastic  28619 non-null  int64 \n",
            " 1   headline      28619 non-null  object\n",
            " 2   article_link  28619 non-null  object\n",
            "dtypes: int64(1), object(2)\n",
            "memory usage: 670.9+ KB\n"
          ]
        }
      ]
    },
    {
      "cell_type": "code",
      "metadata": {
        "colab": {
          "base_uri": "https://localhost:8080/"
        },
        "id": "kw8JrOYxz9DE",
        "outputId": "f257fa96-a38f-41de-fe18-6def4f5e656a"
      },
      "source": [
        "df[\"is_sarcastic\"].unique()"
      ],
      "execution_count": 7,
      "outputs": [
        {
          "output_type": "execute_result",
          "data": {
            "text/plain": [
              "array([1, 0])"
            ]
          },
          "metadata": {},
          "execution_count": 7
        }
      ]
    },
    {
      "cell_type": "code",
      "metadata": {
        "colab": {
          "base_uri": "https://localhost:8080/"
        },
        "id": "M0SEe-MH0RLL",
        "outputId": "52918d03-5ef1-4190-c985-f2c26ab30f57"
      },
      "source": [
        "df[\"is_sarcastic\"].value_counts()"
      ],
      "execution_count": 8,
      "outputs": [
        {
          "output_type": "execute_result",
          "data": {
            "text/plain": [
              "0    14985\n",
              "1    13634\n",
              "Name: is_sarcastic, dtype: int64"
            ]
          },
          "metadata": {},
          "execution_count": 8
        }
      ]
    },
    {
      "cell_type": "code",
      "metadata": {
        "colab": {
          "base_uri": "https://localhost:8080/",
          "height": 280
        },
        "id": "IzLoTTjJ0xBZ",
        "outputId": "57ecca2d-f737-48d6-a94d-23ac40b7fb89"
      },
      "source": [
        "df[\"is_sarcastic\"].value_counts().plot(kind = \"bar\")"
      ],
      "execution_count": 9,
      "outputs": [
        {
          "output_type": "execute_result",
          "data": {
            "text/plain": [
              "<matplotlib.axes._subplots.AxesSubplot at 0x7f3d0e06e8d0>"
            ]
          },
          "metadata": {},
          "execution_count": 9
        },
        {
          "output_type": "display_data",
          "data": {
            "image/png": "[encoded data removed]",
            "text/plain": [
              "<Figure size 432x288 with 1 Axes>"
            ]
          },
          "metadata": {
            "needs_background": "light"
          }
        }
      ]
    },
    {
      "cell_type": "code",
      "metadata": {
        "colab": {
          "base_uri": "https://localhost:8080/"
        },
        "id": "Cpi0yyDj0U2E",
        "outputId": "fead6ac5-4b9f-4c46-a83c-a59d6f3b68be"
      },
      "source": [
        "# Check for missing values\n",
        "df.isnull().sum()"
      ],
      "execution_count": 10,
      "outputs": [
        {
          "output_type": "execute_result",
          "data": {
            "text/plain": [
              "is_sarcastic    0\n",
              "headline        0\n",
              "article_link    0\n",
              "dtype: int64"
            ]
          },
          "metadata": {},
          "execution_count": 10
        }
      ]
    },
    {
      "cell_type": "code",
      "metadata": {
        "colab": {
          "base_uri": "https://localhost:8080/",
          "height": 206
        },
        "id": "Ygl2N7Tn0ni4",
        "outputId": "5be03d43-f213-42bc-f8c7-000ddb153d92"
      },
      "source": [
        "# dropping article_link column\n",
        "df = df.drop([\"article_link\"], axis=1)\n",
        "df.head()"
      ],
      "execution_count": 11,
      "outputs": [
        {
          "output_type": "execute_result",
          "data": {
            "text/html": [
              "<div>\n",
              "<style scoped>\n",
              "    .dataframe tbody tr th:only-of-type {\n",
              "        vertical-align: middle;\n",
              "    }\n",
              "\n",
              "    .dataframe tbody tr th {\n",
              "        vertical-align: top;\n",
              "    }\n",
              "\n",
              "    .dataframe thead th {\n",
              "        text-align: right;\n",
              "    }\n",
              "</style>\n",
              "<table border=\"1\" class=\"dataframe\">\n",
              "  <thead>\n",
              "    <tr style=\"text-align: right;\">\n",
              "      <th></th>\n",
              "      <th>is_sarcastic</th>\n",
              "      <th>headline</th>\n",
              "    </tr>\n",
              "  </thead>\n",
              "  <tbody>\n",
              "    <tr>\n",
              "      <th>0</th>\n",
              "      <td>1</td>\n",
              "      <td>thirtysomething scientists unveil doomsday clo...</td>\n",
              "    </tr>\n",
              "    <tr>\n",
              "      <th>1</th>\n",
              "      <td>0</td>\n",
              "      <td>dem rep. totally nails why congress is falling...</td>\n",
              "    </tr>\n",
              "    <tr>\n",
              "      <th>2</th>\n",
              "      <td>0</td>\n",
              "      <td>eat your veggies: 9 deliciously different recipes</td>\n",
              "    </tr>\n",
              "    <tr>\n",
              "      <th>3</th>\n",
              "      <td>1</td>\n",
              "      <td>inclement weather prevents liar from getting t...</td>\n",
              "    </tr>\n",
              "    <tr>\n",
              "      <th>4</th>\n",
              "      <td>1</td>\n",
              "      <td>mother comes pretty close to using word 'strea...</td>\n",
              "    </tr>\n",
              "  </tbody>\n",
              "</table>\n",
              "</div>"
            ],
            "text/plain": [
              "   is_sarcastic                                           headline\n",
              "0             1  thirtysomething scientists unveil doomsday clo...\n",
              "1             0  dem rep. totally nails why congress is falling...\n",
              "2             0  eat your veggies: 9 deliciously different recipes\n",
              "3             1  inclement weather prevents liar from getting t...\n",
              "4             1  mother comes pretty close to using word 'strea..."
            ]
          },
          "metadata": {},
          "execution_count": 11
        }
      ]
    },
    {
      "cell_type": "code",
      "metadata": {
        "colab": {
          "base_uri": "https://localhost:8080/",
          "height": 206
        },
        "id": "rh7Hx9oZ1jJu",
        "outputId": "2b0b7738-3870-454d-bf60-1469dced62ab"
      },
      "source": [
        "# Length of each sentence\n",
        "df[\"length\"] = df[\"headline\"].apply(lambda x:len(x.split(\" \")))\n",
        "df.head()"
      ],
      "execution_count": 12,
      "outputs": [
        {
          "output_type": "execute_result",
          "data": {
            "text/html": [
              "<div>\n",
              "<style scoped>\n",
              "    .dataframe tbody tr th:only-of-type {\n",
              "        vertical-align: middle;\n",
              "    }\n",
              "\n",
              "    .dataframe tbody tr th {\n",
              "        vertical-align: top;\n",
              "    }\n",
              "\n",
              "    .dataframe thead th {\n",
              "        text-align: right;\n",
              "    }\n",
              "</style>\n",
              "<table border=\"1\" class=\"dataframe\">\n",
              "  <thead>\n",
              "    <tr style=\"text-align: right;\">\n",
              "      <th></th>\n",
              "      <th>is_sarcastic</th>\n",
              "      <th>headline</th>\n",
              "      <th>length</th>\n",
              "    </tr>\n",
              "  </thead>\n",
              "  <tbody>\n",
              "    <tr>\n",
              "      <th>0</th>\n",
              "      <td>1</td>\n",
              "      <td>thirtysomething scientists unveil doomsday clo...</td>\n",
              "      <td>8</td>\n",
              "    </tr>\n",
              "    <tr>\n",
              "      <th>1</th>\n",
              "      <td>0</td>\n",
              "      <td>dem rep. totally nails why congress is falling...</td>\n",
              "      <td>13</td>\n",
              "    </tr>\n",
              "    <tr>\n",
              "      <th>2</th>\n",
              "      <td>0</td>\n",
              "      <td>eat your veggies: 9 deliciously different recipes</td>\n",
              "      <td>7</td>\n",
              "    </tr>\n",
              "    <tr>\n",
              "      <th>3</th>\n",
              "      <td>1</td>\n",
              "      <td>inclement weather prevents liar from getting t...</td>\n",
              "      <td>8</td>\n",
              "    </tr>\n",
              "    <tr>\n",
              "      <th>4</th>\n",
              "      <td>1</td>\n",
              "      <td>mother comes pretty close to using word 'strea...</td>\n",
              "      <td>9</td>\n",
              "    </tr>\n",
              "  </tbody>\n",
              "</table>\n",
              "</div>"
            ],
            "text/plain": [
              "   is_sarcastic                                           headline  length\n",
              "0             1  thirtysomething scientists unveil doomsday clo...       8\n",
              "1             0  dem rep. totally nails why congress is falling...      13\n",
              "2             0  eat your veggies: 9 deliciously different recipes       7\n",
              "3             1  inclement weather prevents liar from getting t...       8\n",
              "4             1  mother comes pretty close to using word 'strea...       9"
            ]
          },
          "metadata": {},
          "execution_count": 12
        }
      ]
    },
    {
      "cell_type": "code",
      "metadata": {
        "colab": {
          "base_uri": "https://localhost:8080/"
        },
        "id": "I__U8s2T2QyO",
        "outputId": "6e67a64c-b85c-4510-8244-1b8ce57de3e0"
      },
      "source": [
        "df[\"length\"].describe()"
      ],
      "execution_count": 13,
      "outputs": [
        {
          "output_type": "execute_result",
          "data": {
            "text/plain": [
              "count   28619.0000000\n",
              "mean       10.0518537\n",
              "std         3.3909385\n",
              "min         2.0000000\n",
              "25%         8.0000000\n",
              "50%        10.0000000\n",
              "75%        12.0000000\n",
              "max       151.0000000\n",
              "Name: length, dtype: float64"
            ]
          },
          "metadata": {},
          "execution_count": 13
        }
      ]
    },
    {
      "cell_type": "code",
      "metadata": {
        "id": "H5m5MVdF1kbU"
      },
      "source": [
        "#Lowercase\n",
        "df[\"headline\"] = df[\"headline\"].apply(lambda x: x.lower())"
      ],
      "execution_count": 14,
      "outputs": []
    },
    {
      "cell_type": "code",
      "metadata": {
        "id": "llGVSiVj1kO7",
        "colab": {
          "base_uri": "https://localhost:8080/",
          "height": 206
        },
        "outputId": "4a727143-496e-4537-e98c-6d15832c8bb5"
      },
      "source": [
        "# Remove punctuatios\n",
        "df[\"headline\"] = df[\"headline\"].str.replace('[^\\w\\s]','')\n",
        "df.head()"
      ],
      "execution_count": 15,
      "outputs": [
        {
          "output_type": "execute_result",
          "data": {
            "text/html": [
              "<div>\n",
              "<style scoped>\n",
              "    .dataframe tbody tr th:only-of-type {\n",
              "        vertical-align: middle;\n",
              "    }\n",
              "\n",
              "    .dataframe tbody tr th {\n",
              "        vertical-align: top;\n",
              "    }\n",
              "\n",
              "    .dataframe thead th {\n",
              "        text-align: right;\n",
              "    }\n",
              "</style>\n",
              "<table border=\"1\" class=\"dataframe\">\n",
              "  <thead>\n",
              "    <tr style=\"text-align: right;\">\n",
              "      <th></th>\n",
              "      <th>is_sarcastic</th>\n",
              "      <th>headline</th>\n",
              "      <th>length</th>\n",
              "    </tr>\n",
              "  </thead>\n",
              "  <tbody>\n",
              "    <tr>\n",
              "      <th>0</th>\n",
              "      <td>1</td>\n",
              "      <td>thirtysomething scientists unveil doomsday clo...</td>\n",
              "      <td>8</td>\n",
              "    </tr>\n",
              "    <tr>\n",
              "      <th>1</th>\n",
              "      <td>0</td>\n",
              "      <td>dem rep totally nails why congress is falling ...</td>\n",
              "      <td>13</td>\n",
              "    </tr>\n",
              "    <tr>\n",
              "      <th>2</th>\n",
              "      <td>0</td>\n",
              "      <td>eat your veggies 9 deliciously different recipes</td>\n",
              "      <td>7</td>\n",
              "    </tr>\n",
              "    <tr>\n",
              "      <th>3</th>\n",
              "      <td>1</td>\n",
              "      <td>inclement weather prevents liar from getting t...</td>\n",
              "      <td>8</td>\n",
              "    </tr>\n",
              "    <tr>\n",
              "      <th>4</th>\n",
              "      <td>1</td>\n",
              "      <td>mother comes pretty close to using word stream...</td>\n",
              "      <td>9</td>\n",
              "    </tr>\n",
              "  </tbody>\n",
              "</table>\n",
              "</div>"
            ],
            "text/plain": [
              "   is_sarcastic                                           headline  length\n",
              "0             1  thirtysomething scientists unveil doomsday clo...       8\n",
              "1             0  dem rep totally nails why congress is falling ...      13\n",
              "2             0   eat your veggies 9 deliciously different recipes       7\n",
              "3             1  inclement weather prevents liar from getting t...       8\n",
              "4             1  mother comes pretty close to using word stream...       9"
            ]
          },
          "metadata": {},
          "execution_count": 15
        }
      ]
    },
    {
      "cell_type": "code",
      "metadata": {
        "id": "5TDnjbPP2Vq4"
      },
      "source": [
        "# Defining Parameters\n",
        "max_features = 20000\n",
        "maxlen = 100\n",
        "embedding_size = 50"
      ],
      "execution_count": 16,
      "outputs": []
    },
    {
      "cell_type": "markdown",
      "metadata": {
        "id": "XAW85zZLL1C4"
      },
      "source": [
        "Get indices for words"
      ]
    },
    {
      "cell_type": "code",
      "metadata": {
        "id": "6g6yTgJrLoyB"
      },
      "source": [
        "tokenizer = tensorflow.keras.preprocessing.text.Tokenizer(num_words= max_features)"
      ],
      "execution_count": 17,
      "outputs": []
    },
    {
      "cell_type": "code",
      "metadata": {
        "colab": {
          "base_uri": "https://localhost:8080/"
        },
        "id": "SanXXNM3LwYc",
        "outputId": "8d82746a-9934-4c9a-f9a6-99cc308b509a"
      },
      "source": [
        "tokenizer.fit_on_texts(list(df[\"headline\"]))\n",
        "X = tokenizer.texts_to_sequences(df[\"headline\"])\n",
        "X[0]"
      ],
      "execution_count": 18,
      "outputs": [
        {
          "output_type": "execute_result",
          "data": {
            "text/plain": [
              "[15525, 336, 3105, 6322, 2318, 2, 671, 1138]"
            ]
          },
          "metadata": {},
          "execution_count": 18
        }
      ]
    },
    {
      "cell_type": "code",
      "metadata": {
        "colab": {
          "base_uri": "https://localhost:8080/"
        },
        "id": "zFC1pZBvLwVA",
        "outputId": "7382e298-4f28-4680-e156-cdcab5960a16"
      },
      "source": [
        "print(\"Number of samples tokenized\", len(X))"
      ],
      "execution_count": 19,
      "outputs": [
        {
          "output_type": "stream",
          "name": "stdout",
          "text": [
            "Number of samples tokenized 28619\n"
          ]
        }
      ]
    },
    {
      "cell_type": "code",
      "metadata": {
        "id": "4RgXVlkXLwRL"
      },
      "source": [
        "# Creating features and labels\n",
        "X = tensorflow.keras.preprocessing.sequence.pad_sequences(X, maxlen=maxlen)\n",
        "y=np.asarray(df[\"is_sarcastic\"])"
      ],
      "execution_count": 20,
      "outputs": []
    },
    {
      "cell_type": "code",
      "metadata": {
        "colab": {
          "base_uri": "https://localhost:8080/"
        },
        "id": "OCrsDX3vMm01",
        "outputId": "9038c236-2db8-4038-c7b5-45da16010cbc"
      },
      "source": [
        "print(y[0])\n",
        "print(X.shape)"
      ],
      "execution_count": 21,
      "outputs": [
        {
          "output_type": "stream",
          "name": "stdout",
          "text": [
            "1\n",
            "(28619, 100)\n"
          ]
        }
      ]
    },
    {
      "cell_type": "code",
      "metadata": {
        "colab": {
          "base_uri": "https://localhost:8080/"
        },
        "id": "NMskj6WqMpS6",
        "outputId": "d3433739-a798-4459-8ff9-6f62502530ec"
      },
      "source": [
        "# Total no words\n",
        "num_words = len(tokenizer.word_index) + 1\n",
        "print(\"Total words: \", num_words)"
      ],
      "execution_count": 22,
      "outputs": [
        {
          "output_type": "stream",
          "name": "stdout",
          "text": [
            "Total words:  29654\n"
          ]
        }
      ]
    },
    {
      "cell_type": "markdown",
      "metadata": {
        "id": "2dozg2UkNazF"
      },
      "source": [
        "Creating a weight matrix using GloVe embeddings"
      ]
    },
    {
      "cell_type": "code",
      "metadata": {
        "id": "wwCY6AbYNMVD"
      },
      "source": [
        "EMBEDDING_FILE = \"/content/drive/MyDrive/glove.6B.50d.txt\"\n",
        "embeddings = {}\n",
        "for o in open(EMBEDDING_FILE):\n",
        "    word = o.split(\" \")[0]\n",
        "    # print(word)\n",
        "    embd = o.split(\" \")[1:]\n",
        "    embd = np.asarray(embd, dtype='float32')\n",
        "    # print(embd)\n",
        "    embeddings[word] = embd"
      ],
      "execution_count": 23,
      "outputs": []
    },
    {
      "cell_type": "code",
      "metadata": {
        "id": "j-2WvYrqO2cz"
      },
      "source": [
        "# create a weight matrix for words in training docs\n",
        "embedding_matrix = np.zeros((num_words, 50))\n",
        "\n",
        "for word, i in tokenizer.word_index.items():\n",
        "\tembedding_vector = embeddings.get(word)\n",
        "\tif embedding_vector is not None:\n",
        "\t\tembedding_matrix[i] = embedding_vector"
      ],
      "execution_count": 24,
      "outputs": []
    },
    {
      "cell_type": "code",
      "metadata": {
        "id": "IiDkjVnuPJHL"
      },
      "source": [
        "# Split the data into Train & Test sets\n",
        "from sklearn.model_selection import train_test_split\n",
        "X_train, X_test, y_train, y_test = train_test_split(X, y, stratify=y, test_size=0.3)"
      ],
      "execution_count": 25,
      "outputs": []
    },
    {
      "cell_type": "code",
      "metadata": {
        "id": "hlIrDaYdPZ8D"
      },
      "source": [
        "# Bidirectional LSTM model\n",
        "import tensorflow as tf\n",
        "from tensorflow.keras.models import Sequential\n",
        "from tensorflow.keras.layers import Embedding, Bidirectional, LSTM, Dense, Dropout, Flatten\n",
        "from functools import partial\n",
        "\n",
        "model = Sequential()\n",
        "model.add(Embedding(num_words, embedding_size, weights = [embedding_matrix], input_length=maxlen))\n",
        "model.add(Dropout(0.2))\n",
        "model.add(Bidirectional(LSTM(128, return_sequences = True)))\n",
        "model.add(Dropout(0.2))\n",
        "model.add(Flatten())\n",
        "model.add(Dense(256, activation = 'relu'))\n",
        "model.add(Dense(128, activation = 'relu'))\n",
        "model.add(Dense(64, activation= 'relu'))\n",
        "model.add(Dropout(0.2))\n",
        "model.add(Dense(1, activation=\"sigmoid\"))"
      ],
      "execution_count": 26,
      "outputs": []
    },
    {
      "cell_type": "code",
      "metadata": {
        "id": "r2gaPzqgP-iV"
      },
      "source": [
        "# compile the model\n",
        "model.compile(loss=\"binary_crossentropy\", optimizer=\"adam\", metrics=[\"accuracy\"])"
      ],
      "execution_count": 27,
      "outputs": []
    },
    {
      "cell_type": "code",
      "metadata": {
        "colab": {
          "base_uri": "https://localhost:8080/"
        },
        "id": "8AzVguT1R6B7",
        "outputId": "fcacee00-df62-41ed-bd3c-a4becab3a0a0"
      },
      "source": [
        "model.summary()"
      ],
      "execution_count": 28,
      "outputs": [
        {
          "output_type": "stream",
          "name": "stdout",
          "text": [
            "Model: \"sequential\"\n",
            "_________________________________________________________________\n",
            " Layer (type)                Output Shape              Param #   \n",
            "=================================================================\n",
            " embedding (Embedding)       (None, 100, 50)           1482700   \n",
            "                                                                 \n",
            " dropout (Dropout)           (None, 100, 50)           0         \n",
            "                                                                 \n",
            " bidirectional (Bidirectiona  (None, 100, 256)         183296    \n",
            " l)                                                              \n",
            "                                                                 \n",
            " dropout_1 (Dropout)         (None, 100, 256)          0         \n",
            "                                                                 \n",
            " flatten (Flatten)           (None, 25600)             0         \n",
            "                                                                 \n",
            " dense (Dense)               (None, 256)               6553856   \n",
            "                                                                 \n",
            " dense_1 (Dense)             (None, 128)               32896     \n",
            "                                                                 \n",
            " dense_2 (Dense)             (None, 64)                8256      \n",
            "                                                                 \n",
            " dropout_2 (Dropout)         (None, 64)                0         \n",
            "                                                                 \n",
            " dense_3 (Dense)             (None, 1)                 65        \n",
            "                                                                 \n",
            "=================================================================\n",
            "Total params: 8,261,069\n",
            "Trainable params: 8,261,069\n",
            "Non-trainable params: 0\n",
            "_________________________________________________________________\n"
          ]
        }
      ]
    },
    {
      "cell_type": "code",
      "metadata": {
        "colab": {
          "base_uri": "https://localhost:8080/"
        },
        "id": "VSS90wyxR8IT",
        "outputId": "7ad9f610-f8f9-4020-ed58-01edca4ddde8"
      },
      "source": [
        "#Fitting the model\n",
        "batch_size = 64\n",
        "epochs = 50\n",
        "\n",
        "from tensorflow.keras.callbacks import ModelCheckpoint\n",
        "callback = tensorflow.keras.callbacks.EarlyStopping(monitor=\"val_loss\",patience=3, restore_best_weights=True,mode=\"min\")\n",
        "\n",
        "training_history = model.fit(X_train, y_train, batch_size=batch_size, epochs=epochs, validation_data=(X_test, y_test))"
      ],
      "execution_count": 29,
      "outputs": [
        {
          "output_type": "stream",
          "name": "stdout",
          "text": [
            "Epoch 1/50\n",
            "314/314 [==============================] - 13s 21ms/step - loss: 0.5180 - accuracy: 0.7411 - val_loss: 0.4140 - val_accuracy: 0.8028\n",
            "Epoch 2/50\n",
            "314/314 [==============================] - 6s 18ms/step - loss: 0.3534 - accuracy: 0.8450 - val_loss: 0.3295 - val_accuracy: 0.8558\n",
            "Epoch 3/50\n",
            "314/314 [==============================] - 6s 19ms/step - loss: 0.2791 - accuracy: 0.8854 - val_loss: 0.2999 - val_accuracy: 0.8719\n",
            "Epoch 4/50\n",
            "314/314 [==============================] - 6s 18ms/step - loss: 0.2186 - accuracy: 0.9085 - val_loss: 0.2987 - val_accuracy: 0.8721\n",
            "Epoch 5/50\n",
            "314/314 [==============================] - 6s 18ms/step - loss: 0.1770 - accuracy: 0.9305 - val_loss: 0.3093 - val_accuracy: 0.8839\n",
            "Epoch 6/50\n",
            "314/314 [==============================] - 6s 18ms/step - loss: 0.1380 - accuracy: 0.9471 - val_loss: 0.3399 - val_accuracy: 0.8813\n",
            "Epoch 7/50\n",
            "314/314 [==============================] - 6s 18ms/step - loss: 0.1143 - accuracy: 0.9564 - val_loss: 0.3358 - val_accuracy: 0.8804\n",
            "Epoch 8/50\n",
            "314/314 [==============================] - 6s 18ms/step - loss: 0.0906 - accuracy: 0.9654 - val_loss: 0.3820 - val_accuracy: 0.8750\n",
            "Epoch 9/50\n",
            "314/314 [==============================] - 6s 20ms/step - loss: 0.0746 - accuracy: 0.9723 - val_loss: 0.4174 - val_accuracy: 0.8799\n",
            "Epoch 10/50\n",
            "314/314 [==============================] - 6s 19ms/step - loss: 0.0620 - accuracy: 0.9757 - val_loss: 0.5087 - val_accuracy: 0.8810\n",
            "Epoch 11/50\n",
            "314/314 [==============================] - 6s 20ms/step - loss: 0.0527 - accuracy: 0.9805 - val_loss: 0.4889 - val_accuracy: 0.8820\n",
            "Epoch 12/50\n",
            "314/314 [==============================] - 6s 18ms/step - loss: 0.0445 - accuracy: 0.9841 - val_loss: 0.5340 - val_accuracy: 0.8810\n",
            "Epoch 13/50\n",
            "314/314 [==============================] - 6s 18ms/step - loss: 0.0370 - accuracy: 0.9860 - val_loss: 0.5795 - val_accuracy: 0.8767\n",
            "Epoch 14/50\n",
            "314/314 [==============================] - 6s 19ms/step - loss: 0.0324 - accuracy: 0.9879 - val_loss: 0.5920 - val_accuracy: 0.8753\n",
            "Epoch 15/50\n",
            "314/314 [==============================] - 6s 19ms/step - loss: 0.0281 - accuracy: 0.9894 - val_loss: 0.6106 - val_accuracy: 0.8739\n",
            "Epoch 16/50\n",
            "314/314 [==============================] - 6s 19ms/step - loss: 0.0256 - accuracy: 0.9913 - val_loss: 0.6730 - val_accuracy: 0.8800\n",
            "Epoch 17/50\n",
            "314/314 [==============================] - 6s 18ms/step - loss: 0.0223 - accuracy: 0.9920 - val_loss: 0.6498 - val_accuracy: 0.8761\n",
            "Epoch 18/50\n",
            "314/314 [==============================] - 6s 19ms/step - loss: 0.0218 - accuracy: 0.9923 - val_loss: 0.7205 - val_accuracy: 0.8777\n",
            "Epoch 19/50\n",
            "314/314 [==============================] - 6s 19ms/step - loss: 0.0215 - accuracy: 0.9931 - val_loss: 0.5845 - val_accuracy: 0.8800\n",
            "Epoch 20/50\n",
            "314/314 [==============================] - 6s 19ms/step - loss: 0.0195 - accuracy: 0.9934 - val_loss: 0.7554 - val_accuracy: 0.8770\n",
            "Epoch 21/50\n",
            "314/314 [==============================] - 6s 19ms/step - loss: 0.0169 - accuracy: 0.9941 - val_loss: 0.7743 - val_accuracy: 0.8791\n",
            "Epoch 22/50\n",
            "314/314 [==============================] - 6s 19ms/step - loss: 0.0168 - accuracy: 0.9940 - val_loss: 0.7046 - val_accuracy: 0.8795\n",
            "Epoch 23/50\n",
            "314/314 [==============================] - 6s 19ms/step - loss: 0.0161 - accuracy: 0.9946 - val_loss: 0.6445 - val_accuracy: 0.8790\n",
            "Epoch 24/50\n",
            "314/314 [==============================] - 6s 19ms/step - loss: 0.0155 - accuracy: 0.9945 - val_loss: 0.7174 - val_accuracy: 0.8799\n",
            "Epoch 25/50\n",
            "314/314 [==============================] - 6s 19ms/step - loss: 0.0134 - accuracy: 0.9953 - val_loss: 0.7145 - val_accuracy: 0.8802\n",
            "Epoch 26/50\n",
            "314/314 [==============================] - 6s 19ms/step - loss: 0.0154 - accuracy: 0.9950 - val_loss: 0.5915 - val_accuracy: 0.8767\n",
            "Epoch 27/50\n",
            "314/314 [==============================] - 6s 20ms/step - loss: 0.0139 - accuracy: 0.9956 - val_loss: 0.6623 - val_accuracy: 0.8782\n",
            "Epoch 28/50\n",
            "314/314 [==============================] - 6s 20ms/step - loss: 0.0087 - accuracy: 0.9971 - val_loss: 0.7744 - val_accuracy: 0.8799\n",
            "Epoch 29/50\n",
            "314/314 [==============================] - 6s 19ms/step - loss: 0.0127 - accuracy: 0.9957 - val_loss: 0.7246 - val_accuracy: 0.8770\n",
            "Epoch 30/50\n",
            "314/314 [==============================] - 6s 19ms/step - loss: 0.0103 - accuracy: 0.9962 - val_loss: 0.7923 - val_accuracy: 0.8735\n",
            "Epoch 31/50\n",
            "314/314 [==============================] - 6s 20ms/step - loss: 0.0087 - accuracy: 0.9971 - val_loss: 0.9128 - val_accuracy: 0.8824\n",
            "Epoch 32/50\n",
            "314/314 [==============================] - 6s 18ms/step - loss: 0.0102 - accuracy: 0.9964 - val_loss: 0.7865 - val_accuracy: 0.8772\n",
            "Epoch 33/50\n",
            "314/314 [==============================] - 6s 18ms/step - loss: 0.0093 - accuracy: 0.9974 - val_loss: 0.8135 - val_accuracy: 0.8796\n",
            "Epoch 34/50\n",
            "314/314 [==============================] - 6s 20ms/step - loss: 0.0082 - accuracy: 0.9975 - val_loss: 1.0109 - val_accuracy: 0.8828\n",
            "Epoch 35/50\n",
            "314/314 [==============================] - 6s 18ms/step - loss: 0.0092 - accuracy: 0.9973 - val_loss: 0.8481 - val_accuracy: 0.8757\n",
            "Epoch 36/50\n",
            "314/314 [==============================] - 6s 18ms/step - loss: 0.0075 - accuracy: 0.9973 - val_loss: 0.9425 - val_accuracy: 0.8795\n",
            "Epoch 37/50\n",
            "314/314 [==============================] - 6s 19ms/step - loss: 0.0063 - accuracy: 0.9979 - val_loss: 0.9786 - val_accuracy: 0.8786\n",
            "Epoch 38/50\n",
            "314/314 [==============================] - 6s 19ms/step - loss: 0.0077 - accuracy: 0.9967 - val_loss: 0.9768 - val_accuracy: 0.8761\n",
            "Epoch 39/50\n",
            "314/314 [==============================] - 6s 19ms/step - loss: 0.0068 - accuracy: 0.9977 - val_loss: 1.1083 - val_accuracy: 0.8777\n",
            "Epoch 40/50\n",
            "314/314 [==============================] - 6s 20ms/step - loss: 0.0070 - accuracy: 0.9976 - val_loss: 0.9800 - val_accuracy: 0.8788\n",
            "Epoch 41/50\n",
            "314/314 [==============================] - 6s 20ms/step - loss: 0.0052 - accuracy: 0.9985 - val_loss: 0.9323 - val_accuracy: 0.8799\n",
            "Epoch 42/50\n",
            "314/314 [==============================] - 6s 20ms/step - loss: 0.0076 - accuracy: 0.9979 - val_loss: 0.8997 - val_accuracy: 0.8803\n",
            "Epoch 43/50\n",
            "314/314 [==============================] - 6s 19ms/step - loss: 0.0050 - accuracy: 0.9982 - val_loss: 1.2051 - val_accuracy: 0.8758\n",
            "Epoch 44/50\n",
            "314/314 [==============================] - 6s 19ms/step - loss: 0.0060 - accuracy: 0.9982 - val_loss: 1.2034 - val_accuracy: 0.8772\n",
            "Epoch 45/50\n",
            "314/314 [==============================] - 6s 19ms/step - loss: 0.0070 - accuracy: 0.9975 - val_loss: 0.9143 - val_accuracy: 0.8778\n",
            "Epoch 46/50\n",
            "314/314 [==============================] - 6s 19ms/step - loss: 0.0064 - accuracy: 0.9976 - val_loss: 0.8764 - val_accuracy: 0.8757\n",
            "Epoch 47/50\n",
            "314/314 [==============================] - 6s 19ms/step - loss: 0.0054 - accuracy: 0.9982 - val_loss: 1.3191 - val_accuracy: 0.8747\n",
            "Epoch 48/50\n",
            "314/314 [==============================] - 6s 20ms/step - loss: 0.0055 - accuracy: 0.9982 - val_loss: 1.2267 - val_accuracy: 0.8747\n",
            "Epoch 49/50\n",
            "314/314 [==============================] - 6s 19ms/step - loss: 0.0049 - accuracy: 0.9984 - val_loss: 1.0447 - val_accuracy: 0.8739\n",
            "Epoch 50/50\n",
            "314/314 [==============================] - 6s 19ms/step - loss: 0.0040 - accuracy: 0.9985 - val_loss: 1.1928 - val_accuracy: 0.8783\n"
          ]
        }
      ]
    },
    {
      "cell_type": "code",
      "metadata": {
        "id": "B3elM0o0SYVW"
      },
      "source": [
        "y_pred = model.predict(X_test.reshape(len(X_test), 100))"
      ],
      "execution_count": 30,
      "outputs": []
    },
    {
      "cell_type": "code",
      "metadata": {
        "colab": {
          "base_uri": "https://localhost:8080/"
        },
        "id": "alIzmIhkSf7i",
        "outputId": "0c7c7676-9873-4373-cc4a-05cc80425ec9"
      },
      "source": [
        "from sklearn.metrics import confusion_matrix\n",
        "confusion_matrix(y_test, np.around(y_pred))"
      ],
      "execution_count": 31,
      "outputs": [
        {
          "output_type": "execute_result",
          "data": {
            "text/plain": [
              "array([[4045,  451],\n",
              "       [ 594, 3496]])"
            ]
          },
          "metadata": {},
          "execution_count": 31
        }
      ]
    },
    {
      "cell_type": "code",
      "metadata": {
        "colab": {
          "base_uri": "https://localhost:8080/"
        },
        "id": "TtmSjANSSf43",
        "outputId": "820d2754-f2ba-40cd-de2b-9ce97fb651e9"
      },
      "source": [
        "from sklearn.metrics import accuracy_score\n",
        "accuracy_score(y_test, np.around(y_pred))"
      ],
      "execution_count": 32,
      "outputs": [
        {
          "output_type": "execute_result",
          "data": {
            "text/plain": [
              "0.8782902399254601"
            ]
          },
          "metadata": {},
          "execution_count": 32
        }
      ]
    },
    {
      "cell_type": "code",
      "metadata": {
        "colab": {
          "base_uri": "https://localhost:8080/"
        },
        "id": "6lekqvfoSftL",
        "outputId": "eb3a1de5-669c-4322-d392-55f5764ad8cb"
      },
      "source": [
        "from sklearn.metrics import classification_report\n",
        "print(classification_report(y_test, np.around(y_pred)))"
      ],
      "execution_count": 33,
      "outputs": [
        {
          "output_type": "stream",
          "name": "stdout",
          "text": [
            "              precision    recall  f1-score   support\n",
            "\n",
            "           0       0.87      0.90      0.89      4496\n",
            "           1       0.89      0.85      0.87      4090\n",
            "\n",
            "    accuracy                           0.88      8586\n",
            "   macro avg       0.88      0.88      0.88      8586\n",
            "weighted avg       0.88      0.88      0.88      8586\n",
            "\n"
          ]
        }
      ]
    },
    {
      "cell_type": "code",
      "metadata": {
        "colab": {
          "base_uri": "https://localhost:8080/",
          "height": 563
        },
        "id": "zDj-upQ-SfqC",
        "outputId": "f44a64c0-3b0b-432a-cecf-c89755e77f8c"
      },
      "source": [
        "# Display plot of training and validation loss/accuracy wrt to epochs\n",
        "import matplotlib.pyplot as plt\n",
        "accuracy      = training_history.history['accuracy']\n",
        "val_accuracy  = training_history.history['val_accuracy']\n",
        "loss     = training_history.history['loss']\n",
        "val_loss = training_history.history['val_loss']\n",
        "\n",
        "epochs   = range(len(accuracy)) # Get number of epochs\n",
        "\n",
        "plt.plot  ( epochs, accuracy, label = 'training accuracy' )\n",
        "plt.plot  ( epochs, val_accuracy, label = 'validation accuracy' )\n",
        "plt.title ('Training and validation accuracy')\n",
        "plt.legend(loc = 'lower right')\n",
        "plt.figure()\n",
        "\n",
        "plt.plot  ( epochs, loss, label = 'training loss' )\n",
        "plt.plot  ( epochs, val_loss, label = 'validation loss' )\n",
        "plt.legend(loc = 'upper right')\n",
        "plt.title ('Training and validation loss'   )"
      ],
      "execution_count": 34,
      "outputs": [
        {
          "output_type": "execute_result",
          "data": {
            "text/plain": [
              "Text(0.5, 1.0, 'Training and validation loss')"
            ]
          },
          "metadata": {},
          "execution_count": 34
        },
        {
          "output_type": "display_data",
          "data": {
            "image/png": "[encoded data removed]",
            "text/plain": [
              "<Figure size 432x288 with 1 Axes>"
            ]
          },
          "metadata": {
            "needs_background": "light"
          }
        },
        {
          "output_type": "display_data",
          "data": {
            "image/png": "[encoded data removed]",
            "text/plain": [
              "<Figure size 432x288 with 1 Axes>"
            ]
          },
          "metadata": {
            "needs_background": "light"
          }
        }
      ]
    }
  ]
}